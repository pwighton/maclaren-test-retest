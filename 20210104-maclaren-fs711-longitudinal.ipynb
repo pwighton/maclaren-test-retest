{
 "cells": [
  {
   "cell_type": "markdown",
   "metadata": {},
   "source": [
    "# Get data\n",
    "```\n",
    "mkdir -p /home/ubuntu/environment/long/20210104-fs711-longitudinal\n",
    "cd /home/ubuntu/environment/long/20210104-fs711-longitudinal\n",
    "aws s3 cp \\\n",
    "  --recursive \\\n",
    "  --exclude \"*\" \\\n",
    "  --include \"*.stats\" \\\n",
    "  s3://cmet-scratch/20210104-fs711-longitudinal .\n",
    "aws s3 cp \\\n",
    "  s3://cmet-scratch/maclaren-cmeds/demographics.tsv \\\n",
    "  /home/ubuntu/environment/long/20210104-fs711-longitudinal/maclaren\n",
    "aws s3 cp \\\n",
    "  s3://cmet-thinq/v1.0/datasets/validation/AccuracyNonCortical/demographics.tsv \\\n",
    "  /home/ubuntu/environment/long/20210104-fs711-longitudinal/AccuracyNonCortical\n",
    "aws s3 cp \\\n",
    "  s3://cmet-thinq/v1.0/datasets/validation/AccuracyNonCortical/demographics.tsv \\\n",
    "  /home/ubuntu/environment/long/20210104-fs711-longitudinal/AccuracyNonCortical-defaced\n",
    "```"
   ]
  },
  {
   "cell_type": "markdown",
   "metadata": {},
   "source": [
    "## Split data into seperate subdirs\n",
    "### To faciliate processing\n",
    "\n",
    "```\n",
    "cd /home/ubuntu/environment/long/20210104-fs711-longitudinal/maclaren\n",
    "mkdir cross\n",
    "mkdir long\n",
    "mkdir long-base\n",
    "mv sub-??_run-?? ./cross/\n",
    "mv sub-??_base ./long-base\n",
    "mv sub* ./long/\n",
    "```\n",
    "\n",
    "### Then rename the long dirs (gross)\n",
    "\n",
    "```\n",
    "cd ./long\n",
    "for DIR_STEM in `ls -1|sed 's/\\..*//'`; do  SUB_NUM=`echo $DIR_STEM|sed 's/sub-//'|sed 's/_run.*//'`; mv ${DIR_STEM}.long.sub-${SUB_NUM}_base ${DIR_STEM}; done\n",
    "```"
   ]
  },
  {
   "cell_type": "code",
   "execution_count": 5,
   "metadata": {},
   "outputs": [],
   "source": [
    "import json\n",
    "import os\n",
    "import fnmatch\n",
    "import pandas as pd\n",
    "import matplotlib.pyplot as plt\n",
    "import seaborn as sns\n",
    "import numpy as np\n",
    "# imports find_json_files(); load_json_file(); load_dataset(); load_fs_dataset()\n",
    "from cmeds import *\n",
    "# imports calc_cvs(); session_permute(); monte_carlo_perm_test\n",
    "from test_retest import *"
   ]
  },
  {
   "cell_type": "code",
   "execution_count": 19,
   "metadata": {},
   "outputs": [
    {
     "name": "stdout",
     "output_type": "stream",
     "text": [
      "Dropping the following subjects []\n"
     ]
    }
   ],
   "source": [
    "structs_of_interest = [\n",
    "    'Left-Lateral-Ventricle',\n",
    "    'Left-Hippocampus',\n",
    "    'Left-Amygdala',\n",
    "    'Left-Caudate',\n",
    "    'Left-Putamen',\n",
    "    'Right-Lateral-Ventricle',\n",
    "    'Right-Hippocampus',\n",
    "    'Right-Amygdala',\n",
    "    'Right-Caudate',\n",
    "    'Right-Putamen'\n",
    "]\n",
    "# Add some lateral regions together so we can directly compare to table 1 in MacLaren et al.\n",
    "regions = [             \n",
    "            [ ['Left-Hippocampus', 'Right-Hippocampus'],'Hippocampus' ],\n",
    "            [ ['Left-Lateral-Ventricle', 'Right-Lateral-Ventricle'],'Lateral-Ventricles' ],\n",
    "            [ ['Left-Amygdala', 'Right-Amygdala',],'Amygdala' ],\n",
    "            [ ['Left-Putamen', 'Right-Putamen'],'Putamen' ],\n",
    "            [ ['Left-Caudate', 'Right-Caudate'],'Caudate' ],\n",
    "          ]\n",
    "drop_subjects = []\n",
    "demofile = '/home/ubuntu/environment/long/20210104-fs711-longitudinal/maclaren/demographics.tsv'\n",
    "\n",
    "datadir = '/home/ubuntu/environment/long/20210104-fs711-longitudinal/maclaren/long'\n",
    "maclaren_fs711_samseglong_df = load_fssamseg_dataset(datadir, demofile, structs_of_interest, drop_subjects=[])\n",
    "maclaren_fs711_samseglong_df = add_regions(maclaren_fs711_samseglong_df,regions)"
   ]
  },
  {
   "cell_type": "code",
   "execution_count": 20,
   "metadata": {},
   "outputs": [],
   "source": [
    "# The column name that holds session info in the demographics.tsv\n",
    "session_col='session'\n",
    "# The column name that holds subject info in the demographics.tsv\n",
    "subject_col='subject_num'\n",
    "structs_of_interest = ['Hippocampus', 'Lateral-Ventricles', 'Amygdala', 'Putamen', 'Caudate']\n",
    "\n",
    "\n",
    "session_list= [1,2,3,4,5,6,7,8,9,10,11,12,13,14,15,16,17,18,19,20]\n",
    "subject_list= [1,2,3]\n",
    "\n",
    "n = 1000\n",
    "perm_test_reults_fs711_samseglong = monte_carlo_perm_test(maclaren_fs711_samseglong_df, subject_list, session_list, subject_col, session_col, structs_of_interest, n_itrs=n, method='gluer')"
   ]
  },
  {
   "cell_type": "code",
   "execution_count": 21,
   "metadata": {},
   "outputs": [
    {
     "data": {
      "text/html": [
       "<div>\n",
       "<style scoped>\n",
       "    .dataframe tbody tr th:only-of-type {\n",
       "        vertical-align: middle;\n",
       "    }\n",
       "\n",
       "    .dataframe tbody tr th {\n",
       "        vertical-align: top;\n",
       "    }\n",
       "\n",
       "    .dataframe thead th {\n",
       "        text-align: right;\n",
       "    }\n",
       "</style>\n",
       "<table border=\"1\" class=\"dataframe\">\n",
       "  <thead>\n",
       "    <tr style=\"text-align: right;\">\n",
       "      <th></th>\n",
       "      <th>Hippocampus</th>\n",
       "      <th>Lateral-Ventricles</th>\n",
       "      <th>Amygdala</th>\n",
       "      <th>Putamen</th>\n",
       "      <th>Caudate</th>\n",
       "    </tr>\n",
       "  </thead>\n",
       "  <tbody>\n",
       "    <tr>\n",
       "      <th>mean-vol</th>\n",
       "      <td>8942.957210</td>\n",
       "      <td>15599.331460</td>\n",
       "      <td>3457.148996</td>\n",
       "      <td>11104.434273</td>\n",
       "      <td>7204.101679</td>\n",
       "    </tr>\n",
       "    <tr>\n",
       "      <th>total-cov</th>\n",
       "      <td>0.684599</td>\n",
       "      <td>1.637940</td>\n",
       "      <td>1.088511</td>\n",
       "      <td>1.129612</td>\n",
       "      <td>1.017349</td>\n",
       "    </tr>\n",
       "    <tr>\n",
       "      <th>session-cov</th>\n",
       "      <td>0.662999</td>\n",
       "      <td>1.204598</td>\n",
       "      <td>0.994030</td>\n",
       "      <td>1.016796</td>\n",
       "      <td>0.923261</td>\n",
       "    </tr>\n",
       "    <tr>\n",
       "      <th>abs-diff-cov</th>\n",
       "      <td>0.021600</td>\n",
       "      <td>0.433342</td>\n",
       "      <td>0.094481</td>\n",
       "      <td>0.112816</td>\n",
       "      <td>0.094089</td>\n",
       "    </tr>\n",
       "    <tr>\n",
       "      <th>p-vals</th>\n",
       "      <td>0.676000</td>\n",
       "      <td>0.000000</td>\n",
       "      <td>0.188000</td>\n",
       "      <td>0.171000</td>\n",
       "      <td>0.145000</td>\n",
       "    </tr>\n",
       "  </tbody>\n",
       "</table>\n",
       "</div>"
      ],
      "text/plain": [
       "              Hippocampus  Lateral-Ventricles     Amygdala       Putamen  \\\n",
       "mean-vol      8942.957210        15599.331460  3457.148996  11104.434273   \n",
       "total-cov        0.684599            1.637940     1.088511      1.129612   \n",
       "session-cov      0.662999            1.204598     0.994030      1.016796   \n",
       "abs-diff-cov     0.021600            0.433342     0.094481      0.112816   \n",
       "p-vals           0.676000            0.000000     0.188000      0.171000   \n",
       "\n",
       "                  Caudate  \n",
       "mean-vol      7204.101679  \n",
       "total-cov        1.017349  \n",
       "session-cov      0.923261  \n",
       "abs-diff-cov     0.094089  \n",
       "p-vals           0.145000  "
      ]
     },
     "execution_count": 21,
     "metadata": {},
     "output_type": "execute_result"
    }
   ],
   "source": [
    "perm_test_reults_fs711_samseglong"
   ]
  },
  {
   "cell_type": "code",
   "execution_count": null,
   "metadata": {},
   "outputs": [],
   "source": []
  }
 ],
 "metadata": {
  "kernelspec": {
   "display_name": "Python 3",
   "language": "python",
   "name": "python3"
  }
 },
 "nbformat": 4,
 "nbformat_minor": 4
}
