{
 "cells": [
  {
   "cell_type": "markdown",
   "metadata": {},
   "source": [
    "# Get data\n",
    "```\n",
    "mkdir -p /home/paul/cmet/data/20200803-maclaren-fs-7.1-samseg/\n",
    "cd /home/paul/cmet/data/20200803-maclaren-fs-7.1-samseg/\n",
    "aws s3 cp s3://cmet-scratch/maclaren-cmeds/demographics.tsv .\n",
    "aws s3 cp \\\n",
    "  --recursive \\\n",
    "  --exclude \"*\" \\\n",
    "  --include \"*.stats\" \\\n",
    "  s3://cmet-scratch/20200803-maclaren-fs-7.1-samseg/ .\n",
    "```"
   ]
  },
  {
   "cell_type": "code",
   "execution_count": null,
   "metadata": {},
   "outputs": [],
   "source": []
  },
  {
   "cell_type": "code",
   "execution_count": 49,
   "metadata": {},
   "outputs": [],
   "source": [
    "import json\n",
    "import os\n",
    "import fnmatch\n",
    "import pandas as pd\n",
    "import matplotlib.pyplot as plt\n",
    "import seaborn as sns\n",
    "import numpy as np\n",
    "# imports find_json_files(); load_json_file(); load_dataset(); load_fs_dataset()\n",
    "from cmeds import *\n",
    "# imports calc_cvs(); session_permute(); monte_carlo_perm_test\n",
    "from test_retest import *"
   ]
  },
  {
   "cell_type": "code",
   "execution_count": 50,
   "metadata": {},
   "outputs": [
    {
     "name": "stdout",
     "output_type": "stream",
     "text": [
      "Dropping the following subjects []\n"
     ]
    }
   ],
   "source": [
    "structs_of_interest = [\n",
    "    'Left-Lateral-Ventricle',\n",
    "    'Left-Hippocampus',\n",
    "    'Left-Amygdala',\n",
    "    'Left-Caudate',\n",
    "    'Left-Putamen',\n",
    "    'Right-Lateral-Ventricle',\n",
    "    'Right-Hippocampus',\n",
    "    'Right-Amygdala',\n",
    "    'Right-Caudate',\n",
    "    'Right-Putamen'\n",
    "]\n",
    "\n",
    "statspath = '/home/paul/cmet/data/20200803-maclaren-fs-7.1-samseg/'\n",
    "demofile = '/home/paul/cmet/data/20200803-maclaren-fs-7.1-samseg/demographics.tsv'\n",
    "maclaren_vol_df = load_fssamseg_dataset(statspath, demofile, structs_of_interest)"
   ]
  },
  {
   "cell_type": "code",
   "execution_count": 51,
   "metadata": {},
   "outputs": [
    {
     "name": "stdout",
     "output_type": "stream",
     "text": [
      "Dropping the following subjects []\n"
     ]
    }
   ],
   "source": [
    "structs_of_interest = [\n",
    "    'Left-Lateral-Ventricle',\n",
    "    'Left-Hippocampus',\n",
    "    'Left-Amygdala',\n",
    "    'Left-Caudate',\n",
    "    'Left-Putamen',\n",
    "    'Right-Lateral-Ventricle',\n",
    "    'Right-Hippocampus',\n",
    "    'Right-Amygdala',\n",
    "    'Right-Caudate',\n",
    "    'Right-Putamen'\n",
    "]\n",
    "drop_subjects = []\n",
    "demofile = '/home/paul/cmet/data/20200803-maclaren-fs-7.1-samseg/demographics.tsv'\n",
    "datadir = '/home/paul/cmet/data/20200803-maclaren-fs-7.1-samseg/'\n",
    "maclaren_fs_vol_df = load_fssamseg_dataset(datadir, demofile, structs_of_interest, drop_subjects=[])\n",
    "\n",
    "# Add some lateral regions together so we can directly compare to table 1 in MacLaren et al.\n",
    "regions = [             \n",
    "            [ ['Left-Hippocampus', 'Right-Hippocampus'],'Hippocampus' ],\n",
    "            [ ['Left-Lateral-Ventricle', 'Right-Lateral-Ventricle'],'Lateral-Ventricles' ],\n",
    "            [ ['Left-Amygdala', 'Right-Amygdala',],'Amygdala' ],\n",
    "            [ ['Left-Putamen', 'Right-Putamen'],'Putamen' ],\n",
    "            [ ['Left-Caudate', 'Right-Caudate'],'Caudate' ],\n",
    "          ]\n",
    "maclaren_fs_vol_df = add_regions(maclaren_fs_vol_df,regions)"
   ]
  },
  {
   "cell_type": "code",
   "execution_count": 52,
   "metadata": {},
   "outputs": [],
   "source": [
    "# The column name that holds session info in the demographics.tsv\n",
    "session_col='session'\n",
    "# The column name that holds subject info in the demographics.tsv\n",
    "subject_col='subject_num'\n",
    "structs_of_interest = ['Hippocampus', 'Lateral-Ventricles', 'Amygdala', 'Putamen', 'Caudate']\n",
    "\n",
    "session_list= [1,2,3,4,5,6,7,8,9,10,11,12,13,14,15,16,17,18,19,20]\n",
    "subject_list= [1,2,3]\n",
    "\n",
    "#cvs_macmethod = calc_cvs(maclaren_fs_vol_df,subject_list,session_list,subject_col,session_col,structs_of_interest,method='maclaren')\n",
    "\n",
    "n = 1000\n",
    "perm_test_reults = monte_carlo_perm_test(maclaren_fs_vol_df, subject_list, session_list, subject_col, session_col, structs_of_interest, n_itrs=n, method='gluer')"
   ]
  },
  {
   "cell_type": "markdown",
   "metadata": {},
   "source": [
    "Comparable to [Table 1 in MacLaren et al](https://www.nature.com/articles/sdata201437/tables/2)"
   ]
  },
  {
   "cell_type": "code",
   "execution_count": 53,
   "metadata": {},
   "outputs": [
    {
     "data": {
      "text/html": [
       "<div>\n",
       "<style scoped>\n",
       "    .dataframe tbody tr th:only-of-type {\n",
       "        vertical-align: middle;\n",
       "    }\n",
       "\n",
       "    .dataframe tbody tr th {\n",
       "        vertical-align: top;\n",
       "    }\n",
       "\n",
       "    .dataframe thead th {\n",
       "        text-align: right;\n",
       "    }\n",
       "</style>\n",
       "<table border=\"1\" class=\"dataframe\">\n",
       "  <thead>\n",
       "    <tr style=\"text-align: right;\">\n",
       "      <th></th>\n",
       "      <th>Hippocampus</th>\n",
       "      <th>Lateral-Ventricles</th>\n",
       "      <th>Amygdala</th>\n",
       "      <th>Putamen</th>\n",
       "      <th>Caudate</th>\n",
       "    </tr>\n",
       "  </thead>\n",
       "  <tbody>\n",
       "    <tr>\n",
       "      <th>mean-vol</th>\n",
       "      <td>10507.386936</td>\n",
       "      <td>20527.349246</td>\n",
       "      <td>3798.720969</td>\n",
       "      <td>12428.730026</td>\n",
       "      <td>8298.407936</td>\n",
       "    </tr>\n",
       "    <tr>\n",
       "      <th>total-cov</th>\n",
       "      <td>2.477247</td>\n",
       "      <td>6.002172</td>\n",
       "      <td>1.860906</td>\n",
       "      <td>9.007040</td>\n",
       "      <td>3.395258</td>\n",
       "    </tr>\n",
       "    <tr>\n",
       "      <th>session-cov</th>\n",
       "      <td>2.422750</td>\n",
       "      <td>5.824028</td>\n",
       "      <td>1.913660</td>\n",
       "      <td>9.603341</td>\n",
       "      <td>3.445871</td>\n",
       "    </tr>\n",
       "    <tr>\n",
       "      <th>abs-diff-cov</th>\n",
       "      <td>0.054497</td>\n",
       "      <td>0.178144</td>\n",
       "      <td>0.052753</td>\n",
       "      <td>0.596301</td>\n",
       "      <td>0.050613</td>\n",
       "    </tr>\n",
       "    <tr>\n",
       "      <th>p-vals</th>\n",
       "      <td>0.687000</td>\n",
       "      <td>0.659000</td>\n",
       "      <td>0.678000</td>\n",
       "      <td>0.285000</td>\n",
       "      <td>0.792000</td>\n",
       "    </tr>\n",
       "  </tbody>\n",
       "</table>\n",
       "</div>"
      ],
      "text/plain": [
       "               Hippocampus  Lateral-Ventricles     Amygdala       Putamen  \\\n",
       "mean-vol      10507.386936        20527.349246  3798.720969  12428.730026   \n",
       "total-cov         2.477247            6.002172     1.860906      9.007040   \n",
       "session-cov       2.422750            5.824028     1.913660      9.603341   \n",
       "abs-diff-cov      0.054497            0.178144     0.052753      0.596301   \n",
       "p-vals            0.687000            0.659000     0.678000      0.285000   \n",
       "\n",
       "                  Caudate  \n",
       "mean-vol      8298.407936  \n",
       "total-cov        3.395258  \n",
       "session-cov      3.445871  \n",
       "abs-diff-cov     0.050613  \n",
       "p-vals           0.792000  "
      ]
     },
     "execution_count": 53,
     "metadata": {},
     "output_type": "execute_result"
    }
   ],
   "source": [
    "perm_test_reults"
   ]
  },
  {
   "cell_type": "code",
   "execution_count": null,
   "metadata": {},
   "outputs": [],
   "source": []
  }
 ],
 "metadata": {
  "kernelspec": {
   "display_name": "Python 3",
   "language": "python",
   "name": "python3"
  },
  "language_info": {
   "codemirror_mode": {
    "name": "ipython",
    "version": 3
   },
   "file_extension": ".py",
   "mimetype": "text/x-python",
   "name": "python",
   "nbconvert_exporter": "python",
   "pygments_lexer": "ipython3",
   "version": "3.7.9"
  }
 },
 "nbformat": 4,
 "nbformat_minor": 4
}
