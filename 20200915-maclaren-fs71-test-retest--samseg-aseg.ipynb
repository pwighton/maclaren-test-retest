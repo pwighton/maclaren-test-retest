{
 "cells": [
  {
   "cell_type": "markdown",
   "metadata": {},
   "source": [
    "# Get data\n",
    "```\n",
    "mkdir -p /home/paul/cmet/data/20200909-maclaren-fs-7.1-samseg-and-aseg/\n",
    "cd /home/paul/cmet/data/20200909-maclaren-fs-7.1-samseg-and-aseg/\n",
    "aws s3 cp s3://cmet-scratch/maclaren-cmeds/demographics.tsv .\n",
    "aws s3 cp \\\n",
    "  --recursive \\\n",
    "  --exclude \"*\" \\\n",
    "  --include \"*.stats\" \\\n",
    "  s3://cmet-scratch/20200909-maclaren-fs-7.1-samseg-and-aseg/ .\n",
    "```"
   ]
  },
  {
   "cell_type": "code",
   "execution_count": 21,
   "metadata": {},
   "outputs": [],
   "source": [
    "import json\n",
    "import os\n",
    "import fnmatch\n",
    "import pandas as pd\n",
    "import matplotlib.pyplot as plt\n",
    "import seaborn as sns\n",
    "import numpy as np\n",
    "# imports find_json_files(); load_json_file(); load_dataset(); load_fs_dataset()\n",
    "from cmeds import *\n",
    "# imports calc_cvs(); session_permute(); monte_carlo_perm_test\n",
    "from test_retest import *"
   ]
  },
  {
   "cell_type": "code",
   "execution_count": 22,
   "metadata": {},
   "outputs": [
    {
     "name": "stdout",
     "output_type": "stream",
     "text": [
      "Dropping the following subjects []\n",
      "Dropping the following subjects []\n"
     ]
    }
   ],
   "source": [
    "structs_of_interest = [\n",
    "    'Left-Lateral-Ventricle',\n",
    "    'Left-Hippocampus',\n",
    "    'Left-Amygdala',\n",
    "    'Left-Caudate',\n",
    "    'Left-Putamen',\n",
    "    'Right-Lateral-Ventricle',\n",
    "    'Right-Hippocampus',\n",
    "    'Right-Amygdala',\n",
    "    'Right-Caudate',\n",
    "    'Right-Putamen'\n",
    "]\n",
    "# Add some lateral regions together so we can directly compare to table 1 in MacLaren et al.\n",
    "regions = [             \n",
    "            [ ['Left-Hippocampus', 'Right-Hippocampus'],'Hippocampus' ],\n",
    "            [ ['Left-Lateral-Ventricle', 'Right-Lateral-Ventricle'],'Lateral-Ventricles' ],\n",
    "            [ ['Left-Amygdala', 'Right-Amygdala',],'Amygdala' ],\n",
    "            [ ['Left-Putamen', 'Right-Putamen'],'Putamen' ],\n",
    "            [ ['Left-Caudate', 'Right-Caudate'],'Caudate' ],\n",
    "          ]\n",
    "drop_subjects = []\n",
    "demofile = '/home/paul/cmet/data/20200909-maclaren-fs-7.1-samseg-and-aseg/demographics.tsv'\n",
    "datadir = '/home/paul/cmet/data/20200909-maclaren-fs-7.1-samseg-and-aseg//'\n",
    "maclaren_fs_vol_aseg_df = load_fs_dataset(datadir, demofile, structs_of_interest, drop_subjects=[])\n",
    "maclaren_fs_vol_aseg_df = add_regions(maclaren_fs_vol_aseg_df,regions)\n",
    "\n",
    "maclaren_fs_vol_samseg_df = load_fssamseg_dataset(datadir, demofile, structs_of_interest, drop_subjects=[])\n",
    "maclaren_fs_vol_samseg_df = add_regions(maclaren_fs_vol_samseg_df,regions)"
   ]
  },
  {
   "cell_type": "code",
   "execution_count": 26,
   "metadata": {},
   "outputs": [],
   "source": [
    "# The column name that holds session info in the demographics.tsv\n",
    "session_col='session'\n",
    "# The column name that holds subject info in the demographics.tsv\n",
    "subject_col='subject_num'\n",
    "structs_of_interest = ['Hippocampus', 'Lateral-Ventricles', 'Amygdala', 'Putamen', 'Caudate']\n",
    "\n",
    "\n",
    "session_list= [1,2,3,4,5,6,7,8,9,10,11,12,13,14,15,16,17,18,19,20]\n",
    "subject_list= [1,2,3]\n",
    "\n",
    "n = 1000\n",
    "perm_test_reults_aseg = monte_carlo_perm_test(maclaren_fs_vol_aseg_df, subject_list, session_list, subject_col, session_col, structs_of_interest, n_itrs=n, method='gluer')\n",
    "perm_test_reults_samseg = monte_carlo_perm_test(maclaren_fs_vol_samseg_df, subject_list, session_list, subject_col, session_col, structs_of_interest, n_itrs=n, method='gluer')\n"
   ]
  },
  {
   "cell_type": "markdown",
   "metadata": {},
   "source": [
    "Comparable to [Table 1 in MacLaren et al](https://www.nature.com/articles/sdata201437/tables/2)"
   ]
  },
  {
   "cell_type": "code",
   "execution_count": 27,
   "metadata": {},
   "outputs": [
    {
     "data": {
      "text/html": [
       "<div>\n",
       "<style scoped>\n",
       "    .dataframe tbody tr th:only-of-type {\n",
       "        vertical-align: middle;\n",
       "    }\n",
       "\n",
       "    .dataframe tbody tr th {\n",
       "        vertical-align: top;\n",
       "    }\n",
       "\n",
       "    .dataframe thead th {\n",
       "        text-align: right;\n",
       "    }\n",
       "</style>\n",
       "<table border=\"1\" class=\"dataframe\">\n",
       "  <thead>\n",
       "    <tr style=\"text-align: right;\">\n",
       "      <th></th>\n",
       "      <th>Hippocampus</th>\n",
       "      <th>Lateral-Ventricles</th>\n",
       "      <th>Amygdala</th>\n",
       "      <th>Putamen</th>\n",
       "      <th>Caudate</th>\n",
       "    </tr>\n",
       "  </thead>\n",
       "  <tbody>\n",
       "    <tr>\n",
       "      <th>mean-vol</th>\n",
       "      <td>8588.422500</td>\n",
       "      <td>12256.834167</td>\n",
       "      <td>3564.247500</td>\n",
       "      <td>9287.095000</td>\n",
       "      <td>7050.834167</td>\n",
       "    </tr>\n",
       "    <tr>\n",
       "      <th>total-cov</th>\n",
       "      <td>1.737995</td>\n",
       "      <td>2.381960</td>\n",
       "      <td>2.922279</td>\n",
       "      <td>2.458737</td>\n",
       "      <td>1.855322</td>\n",
       "    </tr>\n",
       "    <tr>\n",
       "      <th>session-cov</th>\n",
       "      <td>1.874242</td>\n",
       "      <td>0.927510</td>\n",
       "      <td>3.078659</td>\n",
       "      <td>2.290151</td>\n",
       "      <td>1.657972</td>\n",
       "    </tr>\n",
       "    <tr>\n",
       "      <th>abs-diff-cov</th>\n",
       "      <td>0.136247</td>\n",
       "      <td>1.454450</td>\n",
       "      <td>0.156380</td>\n",
       "      <td>0.168586</td>\n",
       "      <td>0.197350</td>\n",
       "    </tr>\n",
       "    <tr>\n",
       "      <th>p-vals</th>\n",
       "      <td>0.234000</td>\n",
       "      <td>0.000000</td>\n",
       "      <td>0.437000</td>\n",
       "      <td>0.426000</td>\n",
       "      <td>0.107000</td>\n",
       "    </tr>\n",
       "  </tbody>\n",
       "</table>\n",
       "</div>"
      ],
      "text/plain": [
       "              Hippocampus  Lateral-Ventricles     Amygdala      Putamen  \\\n",
       "mean-vol      8588.422500        12256.834167  3564.247500  9287.095000   \n",
       "total-cov        1.737995            2.381960     2.922279     2.458737   \n",
       "session-cov      1.874242            0.927510     3.078659     2.290151   \n",
       "abs-diff-cov     0.136247            1.454450     0.156380     0.168586   \n",
       "p-vals           0.234000            0.000000     0.437000     0.426000   \n",
       "\n",
       "                  Caudate  \n",
       "mean-vol      7050.834167  \n",
       "total-cov        1.855322  \n",
       "session-cov      1.657972  \n",
       "abs-diff-cov     0.197350  \n",
       "p-vals           0.107000  "
      ]
     },
     "execution_count": 27,
     "metadata": {},
     "output_type": "execute_result"
    }
   ],
   "source": [
    "perm_test_reults_aseg"
   ]
  },
  {
   "cell_type": "code",
   "execution_count": 28,
   "metadata": {},
   "outputs": [
    {
     "data": {
      "text/html": [
       "<div>\n",
       "<style scoped>\n",
       "    .dataframe tbody tr th:only-of-type {\n",
       "        vertical-align: middle;\n",
       "    }\n",
       "\n",
       "    .dataframe tbody tr th {\n",
       "        vertical-align: top;\n",
       "    }\n",
       "\n",
       "    .dataframe thead th {\n",
       "        text-align: right;\n",
       "    }\n",
       "</style>\n",
       "<table border=\"1\" class=\"dataframe\">\n",
       "  <thead>\n",
       "    <tr style=\"text-align: right;\">\n",
       "      <th></th>\n",
       "      <th>Hippocampus</th>\n",
       "      <th>Lateral-Ventricles</th>\n",
       "      <th>Amygdala</th>\n",
       "      <th>Putamen</th>\n",
       "      <th>Caudate</th>\n",
       "    </tr>\n",
       "  </thead>\n",
       "  <tbody>\n",
       "    <tr>\n",
       "      <th>mean-vol</th>\n",
       "      <td>10507.386936</td>\n",
       "      <td>20527.349246</td>\n",
       "      <td>3798.720969</td>\n",
       "      <td>12428.730026</td>\n",
       "      <td>8298.407936</td>\n",
       "    </tr>\n",
       "    <tr>\n",
       "      <th>total-cov</th>\n",
       "      <td>2.477247</td>\n",
       "      <td>6.002172</td>\n",
       "      <td>1.860906</td>\n",
       "      <td>9.007040</td>\n",
       "      <td>3.395258</td>\n",
       "    </tr>\n",
       "    <tr>\n",
       "      <th>session-cov</th>\n",
       "      <td>2.422750</td>\n",
       "      <td>5.824028</td>\n",
       "      <td>1.913660</td>\n",
       "      <td>9.603341</td>\n",
       "      <td>3.445871</td>\n",
       "    </tr>\n",
       "    <tr>\n",
       "      <th>abs-diff-cov</th>\n",
       "      <td>0.054497</td>\n",
       "      <td>0.178144</td>\n",
       "      <td>0.052753</td>\n",
       "      <td>0.596301</td>\n",
       "      <td>0.050613</td>\n",
       "    </tr>\n",
       "    <tr>\n",
       "      <th>p-vals</th>\n",
       "      <td>0.715000</td>\n",
       "      <td>0.657000</td>\n",
       "      <td>0.685000</td>\n",
       "      <td>0.304000</td>\n",
       "      <td>0.810000</td>\n",
       "    </tr>\n",
       "  </tbody>\n",
       "</table>\n",
       "</div>"
      ],
      "text/plain": [
       "               Hippocampus  Lateral-Ventricles     Amygdala       Putamen  \\\n",
       "mean-vol      10507.386936        20527.349246  3798.720969  12428.730026   \n",
       "total-cov         2.477247            6.002172     1.860906      9.007040   \n",
       "session-cov       2.422750            5.824028     1.913660      9.603341   \n",
       "abs-diff-cov      0.054497            0.178144     0.052753      0.596301   \n",
       "p-vals            0.715000            0.657000     0.685000      0.304000   \n",
       "\n",
       "                  Caudate  \n",
       "mean-vol      8298.407936  \n",
       "total-cov        3.395258  \n",
       "session-cov      3.445871  \n",
       "abs-diff-cov     0.050613  \n",
       "p-vals           0.810000  "
      ]
     },
     "execution_count": 28,
     "metadata": {},
     "output_type": "execute_result"
    }
   ],
   "source": [
    "perm_test_reults_samseg"
   ]
  },
  {
   "cell_type": "code",
   "execution_count": null,
   "metadata": {},
   "outputs": [],
   "source": []
  }
 ],
 "metadata": {
  "kernelspec": {
   "display_name": "Python 3",
   "language": "python",
   "name": "python3"
  },
  "language_info": {
   "codemirror_mode": {
    "name": "ipython",
    "version": 3
   },
   "file_extension": ".py",
   "mimetype": "text/x-python",
   "name": "python",
   "nbconvert_exporter": "python",
   "pygments_lexer": "ipython3",
   "version": "3.7.9"
  }
 },
 "nbformat": 4,
 "nbformat_minor": 4
}
